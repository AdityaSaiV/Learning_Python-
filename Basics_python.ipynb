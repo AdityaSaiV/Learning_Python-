{
 "cells": [
  {
   "cell_type": "markdown",
   "id": "5ea7967c-0f59-4a38-9b7e-4dd03c54430c",
   "metadata": {},
   "source": [
    "# You can assign anything to variables (Literally anything !!)"
   ]
  },
  {
   "cell_type": "code",
   "execution_count": 1,
   "id": "aaeb4550-3090-4bf5-837a-fdd65da016fe",
   "metadata": {},
   "outputs": [
    {
     "name": "stdout",
     "output_type": "stream",
     "text": [
      "Hola\n"
     ]
    }
   ],
   "source": [
    "print(\"Hola\")"
   ]
  },
  {
   "cell_type": "code",
   "execution_count": 2,
   "id": "b88dfc5d-59e2-4e6c-802a-bf7ab7276aec",
   "metadata": {},
   "outputs": [],
   "source": [
    "show = print"
   ]
  },
  {
   "cell_type": "code",
   "execution_count": 3,
   "id": "63ed04e3-6487-4c98-8798-f0c1fe63dcd1",
   "metadata": {},
   "outputs": [
    {
     "name": "stdout",
     "output_type": "stream",
     "text": [
      "I reborn as new boss\n"
     ]
    }
   ],
   "source": [
    "show(\"I reborn as new boss\")"
   ]
  },
  {
   "cell_type": "markdown",
   "id": "9389b04b-f937-44ca-b4b3-467d9aeb94e1",
   "metadata": {},
   "source": [
    "# Functions ittt"
   ]
  },
  {
   "cell_type": "code",
   "execution_count": 4,
   "id": "a142ce82-100b-4c82-8fdd-5e38ec9e78a2",
   "metadata": {},
   "outputs": [
    {
     "name": "stdout",
     "output_type": "stream",
     "text": [
      "Idhi emaina voter list ah! nee peru ichav \n",
      "sarle chusko ne peru : Aditya\n"
     ]
    }
   ],
   "source": [
    "def greetings(name):\n",
    "    print(f\"Idhi emaina voter list ah! nee peru ichav \\nsarle chusko ne peru : {name}\")\n",
    "\n",
    "greetings(\"Aditya\")"
   ]
  },
  {
   "cell_type": "markdown",
   "id": "96fd8ce8-e607-441a-ac5f-a75148caf080",
   "metadata": {},
   "source": [
    "# Pointers in Python (same same but different)"
   ]
  },
  {
   "cell_type": "code",
   "execution_count": 5,
   "id": "96fd304f-5163-4ff9-b44c-519dd6d96d73",
   "metadata": {},
   "outputs": [
    {
     "data": {
      "text/plain": [
       "2068404831600"
      ]
     },
     "execution_count": 5,
     "metadata": {},
     "output_type": "execute_result"
    }
   ],
   "source": [
    "phd = \"You dont have\"\n",
    "id(phd)"
   ]
  },
  {
   "cell_type": "markdown",
   "id": "350d52e9-15dd-4fab-baea-b182b8fe39c2",
   "metadata": {},
   "source": [
    "# Strings (Ah Shit! here we go again)"
   ]
  },
  {
   "cell_type": "code",
   "execution_count": 6,
   "id": "46dc6b39-48fc-45bd-816b-caa942d5b29a",
   "metadata": {},
   "outputs": [
    {
     "name": "stdout",
     "output_type": "stream",
     "text": [
      "['You know ', ' this is - going to be complicated']\n",
      "['You know ', ' this is ', ' going to be complicated']\n"
     ]
    }
   ],
   "source": [
    "xim = \"You know - this is - going to be complicated\"\n",
    "lalalist = xim.split(sep = \"-\",maxsplit = 1) # maxsplit, splits on no.of occurences \n",
    "print(lalalist)\n",
    "lalalist2 = xim.split(sep = \"-\",maxsplit = 2)\n",
    "print(lalalist2)"
   ]
  },
  {
   "cell_type": "code",
   "execution_count": 7,
   "id": "56f25f51-a6bc-4818-ae64-8f486e2e3cb6",
   "metadata": {},
   "outputs": [
    {
     "name": "stdout",
     "output_type": "stream",
     "text": [
      "Mike i wisha\n",
      "Normal aint :  Make a wisha\n"
     ]
    }
   ],
   "source": [
    "# You can also replace only at some place in string or replace all\n",
    "\n",
    "likethis = \"Make a wisha\"\n",
    "print(likethis.replace('a','i',2)) # number specifies how many  A's need to be replaced\n",
    "\n",
    "# but u need to assign to something to use the replaced string\n",
    "print(\"Normal aint : \",likethis)"
   ]
  },
  {
   "cell_type": "code",
   "execution_count": 8,
   "id": "8466c595-235c-4450-b6d5-c038915e452e",
   "metadata": {},
   "outputs": [
    {
     "name": "stdout",
     "output_type": "stream",
     "text": [
      "Ninja Malik\n",
      "My name is Malik and i am Ninja\n",
      "Hello Malik this is ninja way\n"
     ]
    }
   ],
   "source": [
    "naem = \"Malik\"\n",
    "print(\"Ninja {}\".format(naem))\n",
    "\n",
    "# Or Use this\n",
    "\n",
    "print(f\"My name is {naem} and i am Ninja\")\n",
    "\n",
    "# Or this\n",
    "\n",
    "print(\"Hello %s this is ninja way\"%(naem))"
   ]
  },
  {
   "cell_type": "code",
   "execution_count": 9,
   "id": "0465f4c7-ce04-46ba-b901-68dbd0266482",
   "metadata": {},
   "outputs": [
    {
     "name": "stdout",
     "output_type": "stream",
     "text": [
      "T-o-d-a-y- -h-a-s- -b-e-e-n- -a- -g-o-o-d- -d-a-y\n"
     ]
    }
   ],
   "source": [
    "sen = \"-\"\n",
    "hei = \"Today has been a good day\"\n",
    "\n",
    "print(sen.join(hei))"
   ]
  },
  {
   "cell_type": "markdown",
   "id": "bb75af04-7ff9-4746-a9f1-e4ec63ffadcb",
   "metadata": {},
   "source": [
    "# Lists (Long AF)"
   ]
  },
  {
   "cell_type": "code",
   "execution_count": 10,
   "id": "0e02580d-6f74-416c-94b1-e677a7100cdc",
   "metadata": {},
   "outputs": [],
   "source": [
    "listings_menu = [1,4,3,2,\"pillodiva numbers rasthunnav\",\"OK\",0]"
   ]
  },
  {
   "cell_type": "code",
   "execution_count": 11,
   "id": "2bd11ac3-d3a1-4099-8569-4b3f7d3fe243",
   "metadata": {},
   "outputs": [
    {
     "data": {
      "text/plain": [
       "[1, 4, 3, 2, 'pillodiva numbers rasthunnav', 'OK', 0, 'why me']"
      ]
     },
     "execution_count": 11,
     "metadata": {},
     "output_type": "execute_result"
    }
   ],
   "source": [
    "listings_menu.append(\"why me\")\n",
    "listings_menu"
   ]
  },
  {
   "cell_type": "code",
   "execution_count": 12,
   "id": "6d6bc313-6d75-4e95-bc3e-cb58a4c1c467",
   "metadata": {},
   "outputs": [
    {
     "data": {
      "text/plain": [
       "[1, 4, 3, 2, 'pillodiva numbers rasthunnav', 'OK', 'why me']"
      ]
     },
     "execution_count": 12,
     "metadata": {},
     "output_type": "execute_result"
    }
   ],
   "source": [
    "listings_menu.remove(0)\n",
    "listings_menu"
   ]
  },
  {
   "cell_type": "code",
   "execution_count": 13,
   "id": "f428474d-e292-43a6-af26-0d7f8b1b71d6",
   "metadata": {},
   "outputs": [
    {
     "name": "stdout",
     "output_type": "stream",
     "text": [
      "[1, 4, 3, 2, 'pillodiva numbers rasthunnav', 'OK', 'why me']\n",
      "None\n",
      "Kaali dolla em ledhu\n"
     ]
    }
   ],
   "source": [
    "listings_menu_2 = listings_menu.copy()\n",
    "print(listings_menu_2)\n",
    "\n",
    "print(listings_menu_2.clear())\n",
    "print(\"Kaali dolla em ledhu\")"
   ]
  },
  {
   "cell_type": "code",
   "execution_count": 14,
   "id": "536a151d-2740-4159-a75e-50b2cde62507",
   "metadata": {},
   "outputs": [
    {
     "name": "stdout",
     "output_type": "stream",
     "text": [
      "[1, 4, 3, 2, 'pillodiva numbers rasthunnav', 'OK', 'why me', 'billa late ga vasthadu', 117]\n",
      "[1111110000, 80, 1, 2, 3, 4, 5, 6, 1, 1020, 31023, 301]\n"
     ]
    }
   ],
   "source": [
    "listings_menu_2 = [\"billa late ga vasthadu\",117]\n",
    "listings_menu_3 = [1111110000,80]\n",
    "listings_menu.extend(listings_menu_2) # only one list can be extended \n",
    "print(listings_menu)\n",
    "\n",
    "# or use + (but make sure all the elements are of same type in both or same length maybe)\n",
    "\n",
    "menu = listings_menu_3 + [1,2,3,4,5,6] + [1,1020,31023,301]\n",
    "print(menu)\n"
   ]
  },
  {
   "cell_type": "code",
   "execution_count": 15,
   "id": "4dd9a1bb-c783-43cf-b883-b83ea5a336ad",
   "metadata": {},
   "outputs": [
    {
     "name": "stdout",
     "output_type": "stream",
     "text": [
      "pillodiva numbers rasthunnav\n",
      "None\n",
      "None\n",
      "None\n"
     ]
    }
   ],
   "source": [
    "listings_menu_3 = [1,234,234,23,4,2,5,66,23,0]\n",
    "listings_menu.insert(5,'k') # appends but at specified position\n",
    "print(listings_menu.pop(4)) # remove at specified position\n",
    "print(listings_menu.remove(2)) # removes only first occurence of value\n",
    "print(listings_menu.reverse()) # zindagi reverse \n",
    "print(listings_menu_3.sort()) # varasaga "
   ]
  },
  {
   "cell_type": "markdown",
   "id": "e0ad026b-af0a-4ea0-995d-49ce3a13a46c",
   "metadata": {},
   "source": [
    "# Dictionaries (Keys Lost, Treasure Lost!)"
   ]
  },
  {
   "cell_type": "code",
   "execution_count": 16,
   "id": "6d127945-b5bb-4963-ba29-d6f303a9e871",
   "metadata": {},
   "outputs": [],
   "source": [
    "insta = {1:[\"Likes\"],2:\"Share\",3:\"comment\",4:\"Follow\",\"Extra\":2}"
   ]
  },
  {
   "cell_type": "code",
   "execution_count": 17,
   "id": "e4bc3f3d-1264-42d0-b5ba-2e3cae7ab4ef",
   "metadata": {},
   "outputs": [
    {
     "name": "stdout",
     "output_type": "stream",
     "text": [
      "dict_keys([1, 2, 3, 4, 'Extra'])\n",
      "dict_values([['Likes'], 'Share', 'comment', 'Follow', 2])\n"
     ]
    }
   ],
   "source": [
    "print(insta.keys())\n",
    "print(insta.values())"
   ]
  },
  {
   "cell_type": "code",
   "execution_count": 18,
   "id": "cd88b150-cfb0-40ce-805a-5451c27aa123",
   "metadata": {},
   "outputs": [
    {
     "name": "stdout",
     "output_type": "stream",
     "text": [
      "{1: ['Likes'], 2: 'Share', 3: 'comment', 4: 'Follow'}\n"
     ]
    }
   ],
   "source": [
    "insta.pop(\"Extra\")\n",
    "print(insta)"
   ]
  },
  {
   "cell_type": "code",
   "execution_count": 19,
   "id": "16d855ac-5416-4708-9b90-f6024dbb7277",
   "metadata": {},
   "outputs": [
    {
     "data": {
      "text/plain": [
       "{1: ['Likes', 'aaf'], 2: 'Share', 3: 'comment', 4: 'Follow'}"
      ]
     },
     "execution_count": 19,
     "metadata": {},
     "output_type": "execute_result"
    }
   ],
   "source": [
    "insta[1].append(\"aaf\")\n",
    "insta"
   ]
  },
  {
   "cell_type": "markdown",
   "id": "c1b6aaf2-5143-4413-b58a-088d7b498875",
   "metadata": {},
   "source": [
    "# Sets (Z+ Security or Elemental Suicide)"
   ]
  },
  {
   "cell_type": "code",
   "execution_count": 20,
   "id": "262a2ab1-569c-4810-ab2f-52e55d0fa2f2",
   "metadata": {},
   "outputs": [
    {
     "data": {
      "text/plain": [
       "{0, 1, 2, 5, 7, 'A', 'HEhe'}"
      ]
     },
     "execution_count": 20,
     "metadata": {},
     "output_type": "execute_result"
    }
   ],
   "source": [
    "zs = {2,5,7,1,0,\"HEhe\",\"A\"}\n",
    "zs"
   ]
  },
  {
   "cell_type": "code",
   "execution_count": 21,
   "id": "79bd9989-68f9-40c2-a55d-199f22cdacd2",
   "metadata": {},
   "outputs": [
    {
     "name": "stdout",
     "output_type": "stream",
     "text": [
      "zs2 :  {1, 2, 'A', 100, 5, 5600, 7, 200, 10, 'HEhe'}\n",
      "{0}\n",
      "set()\n"
     ]
    }
   ],
   "source": [
    "zs.add(10)\n",
    "zs2 = zs.copy()\n",
    "zs2.add(100)\n",
    "zs2.add(200)\n",
    "zs2.add(5600)\n",
    "zs2.discard(0)\n",
    "print(\"zs2 : \" , zs2)\n",
    "zs.difference(zs2) # shows unique items\n",
    "zs.difference_update(zs2) # removes elements that are are common\n",
    "print(zs)\n",
    "zs3 = {1234,4567}\n",
    "print(zs.intersection(zs3))"
   ]
  },
  {
   "cell_type": "code",
   "execution_count": 22,
   "id": "3fee0a56-66d3-45b7-92c3-3b903010a3e9",
   "metadata": {},
   "outputs": [],
   "source": [
    "# Theres more to sets , like from normal mathematics"
   ]
  },
  {
   "cell_type": "markdown",
   "id": "2d126d67-79a2-49b6-9132-ce1f16b73763",
   "metadata": {},
   "source": [
    "# Tuple (bruh! Stubborn mustard)"
   ]
  },
  {
   "cell_type": "code",
   "execution_count": 23,
   "id": "95d6ef43-da9a-4751-8145-b2225cb9fd2b",
   "metadata": {},
   "outputs": [
    {
     "data": {
      "text/plain": [
       "('buy guns', 'sell grills', 'Stuff coke', 'Fixing ofc')"
      ]
     },
     "execution_count": 23,
     "metadata": {},
     "output_type": "execute_result"
    }
   ],
   "source": [
    "fixer = (\"buy guns\",\"sell grills\",\"Stuff coke\",\"Fixing ofc\")\n",
    "fixer"
   ]
  },
  {
   "cell_type": "code",
   "execution_count": 24,
   "id": "781408a1-75a5-4595-89c4-be85223f6048",
   "metadata": {},
   "outputs": [],
   "source": [
    "# Theres nothing much interesting"
   ]
  },
  {
   "cell_type": "markdown",
   "id": "785b6b08-739f-47b7-9ab1-17f266cb8cce",
   "metadata": {},
   "source": [
    "# List Comprehension (oh! compressed lists ?)"
   ]
  },
  {
   "cell_type": "code",
   "execution_count": 25,
   "id": "4e615c89-5827-4e3c-becd-6d41e6401568",
   "metadata": {},
   "outputs": [
    {
     "data": {
      "text/plain": [
       "[0, 1, 2, 3, 4]"
      ]
     },
     "execution_count": 25,
     "metadata": {},
     "output_type": "execute_result"
    }
   ],
   "source": [
    "sar = [x for x in range(5)]\n",
    "sar"
   ]
  },
  {
   "cell_type": "code",
   "execution_count": 26,
   "id": "c5fd139f-5c1b-4d71-b959-9c2872504b77",
   "metadata": {},
   "outputs": [
    {
     "data": {
      "text/plain": [
       "[0, 5, 10, 15, 20, 25, 30, 35, 40, 45]"
      ]
     },
     "execution_count": 26,
     "metadata": {},
     "output_type": "execute_result"
    }
   ],
   "source": [
    "sr = [i for i in range(50) if i%5 == 0]\n",
    "sr"
   ]
  },
  {
   "cell_type": "markdown",
   "id": "c989c0ed-9d23-4de9-936b-82cd50bbddac",
   "metadata": {},
   "source": [
    "# Excercise"
   ]
  },
  {
   "cell_type": "code",
   "execution_count": 27,
   "id": "d00a09c1-a7d6-4fc5-bdfc-c962eeeec74a",
   "metadata": {},
   "outputs": [],
   "source": [
    "job_roles = [\n",
    "    {'role': 'Data Analyst', 'skills': ['Python', 'SQL', 'Excel']},\n",
    "    {'role': 'Data Scientist', 'skills': ['Python', 'R', 'Machine Learning', 'Deep Learning']},\n",
    "    {'role': 'Machine Learning Engineer', 'skills': ['Python', 'TensorFlow', 'PyTorch', 'Scikit-Learn']},\n",
    "    {'role': 'Data Engineer', 'skills': ['Python', 'Apache Spark', 'Hadoop', 'SQL']},\n",
    "    {'role': 'Business Intelligence Analyst', 'skills': ['Python', 'SQL', 'Tableau', 'Power BI', 'Excel']},\n",
    "    {'role': 'Quantitative Analyst', 'skills': ['R', 'Python', 'MATLAB', 'Statistics']},\n",
    "    {'role': 'Operations Analyst', 'skills': ['Python', 'SQL', 'Data Visualization', 'Process Improvement']},\n",
    "    {'role': 'Database Administrator', 'skills': ['SQL', 'Oracle', 'MySQL', 'Database Management']},\n",
    "    {'role': 'AI Engineer', 'skills': ['Python', 'TensorFlow', 'PyTorch', 'Computer Vision']},\n",
    "    {'role': 'Statistician', 'skills': ['R', 'SAS', 'Python', 'Statistical Modeling']}\n",
    "]\n",
    "# My skills\n",
    "my_skills = ['Python', 'SQL', 'Excel']"
   ]
  },
  {
   "cell_type": "code",
   "execution_count": 28,
   "id": "5ffecf29-8f62-4551-ba6e-4bff16d5bc84",
   "metadata": {},
   "outputs": [
    {
     "name": "stdout",
     "output_type": "stream",
     "text": [
      "Data Analyst\n",
      "Business Intelligence Analyst\n"
     ]
    }
   ],
   "source": [
    "for i in job_roles:\n",
    "    yes = True\n",
    "    for j in my_skills:\n",
    "        if j not in i[\"skills\"]:\n",
    "           yes = False \n",
    "    if yes:\n",
    "        print(i[\"role\"])"
   ]
  },
  {
   "cell_type": "markdown",
   "id": "8f2498c1-2339-4b89-ac63-d7a7f1c5faed",
   "metadata": {},
   "source": [
    "# Lambda Functions"
   ]
  },
  {
   "cell_type": "code",
   "execution_count": 29,
   "id": "8f13da90-4c6d-474f-971f-07b5883ad234",
   "metadata": {},
   "outputs": [
    {
     "data": {
      "text/plain": [
       "102.28"
      ]
     },
     "execution_count": 29,
     "metadata": {},
     "output_type": "execute_result"
    }
   ],
   "source": [
    "small = lambda r : r*3.14+96\n",
    "small(2)"
   ]
  },
  {
   "cell_type": "code",
   "execution_count": 30,
   "id": "e157e3e7-3b07-4edf-9687-1023ec6bbc15",
   "metadata": {},
   "outputs": [
    {
     "data": {
      "text/plain": [
       "[5, 15, 25, 35, 45, 55, 65, 75]"
      ]
     },
     "execution_count": 30,
     "metadata": {},
     "output_type": "execute_result"
    }
   ],
   "source": [
    "profits = [10,20,30,40,50,60,70,80]\n",
    "revenue = [ (lambda x : x-5)(i) for i in profits]\n",
    "revenue"
   ]
  },
  {
   "cell_type": "code",
   "execution_count": 31,
   "id": "d8fd1535-e217-4578-b813-1380cb633ae2",
   "metadata": {},
   "outputs": [
    {
     "name": "stdout",
     "output_type": "stream",
     "text": [
      "[3, 4]\n"
     ]
    }
   ],
   "source": [
    "def dase(h):\n",
    "    if h<3:\n",
    "        return False\n",
    "    else:\n",
    "        return True\n",
    "\n",
    "maina = filter(dase,[1,2,3,4])\n",
    "\n",
    "print(list(maina))"
   ]
  },
  {
   "cell_type": "code",
   "execution_count": 32,
   "id": "c19980fb-aa94-4a87-88da-0ba67204c92e",
   "metadata": {},
   "outputs": [],
   "source": [
    "jobs_data = [\n",
    "    {'job_title': 'Data Scientist',  'job_skills': ['Python', 'Machine Learning'], 'remote': True},\n",
    "    {'job_title': 'Data Analyst',  'job_skills': ['Excel', 'SQL'], 'remote': False},\n",
    "    {'job_title': 'Machine Learning Engineer', 'job_skills': ['Python', 'TensorFlow', 'Keras'], 'remote': True},\n",
    "    {'job_title': 'Software Developer', 'job_skills': ['Java', 'C++'], 'remote': True},\n",
    "    {'job_title': 'Data Scientist', 'job_skills': ['R', 'Statistics'], 'remote': False}\n",
    "]"
   ]
  },
  {
   "cell_type": "code",
   "execution_count": 33,
   "id": "6369ce13-5d41-4ad3-827f-054b3a219e5d",
   "metadata": {},
   "outputs": [
    {
     "name": "stdout",
     "output_type": "stream",
     "text": [
      "[{'job_title': 'Data Scientist', 'job_skills': ['Python', 'Machine Learning'], 'remote': True}, {'job_title': 'Machine Learning Engineer', 'job_skills': ['Python', 'TensorFlow', 'Keras'], 'remote': True}, {'job_title': 'Software Developer', 'job_skills': ['Java', 'C++'], 'remote': True}]\n"
     ]
    }
   ],
   "source": [
    "apply = list(filter(lambda x: x['remote'],jobs_data))\n",
    "print(apply)"
   ]
  },
  {
   "cell_type": "markdown",
   "id": "7dd2c5ca-5c9a-4a0c-a31e-bcfc5d6bf2d9",
   "metadata": {},
   "source": [
    "# Modules"
   ]
  },
  {
   "cell_type": "code",
   "execution_count": 40,
   "id": "4d7e5b60-5a5e-4b62-bbdd-e0519ccc056b",
   "metadata": {},
   "outputs": [
    {
     "name": "stdout",
     "output_type": "stream",
     "text": [
      "['Python', 'SQL', 'PowerBI']\n"
     ]
    }
   ],
   "source": [
    "import spellout as s\n",
    "# actually spellout is a python file which contains some code and i am accessing it \n",
    "print(spellout.skill_list)"
   ]
  },
  {
   "cell_type": "code",
   "execution_count": 39,
   "id": "b07109e6-469d-43cb-9f23-335bbd5982c0",
   "metadata": {},
   "outputs": [
    {
     "name": "stdout",
     "output_type": "stream",
     "text": [
      "Why only Life\n"
     ]
    }
   ],
   "source": [
    "s.callout(\"Life\")"
   ]
  },
  {
   "cell_type": "code",
   "execution_count": null,
   "id": "e0a31605-fcb6-48dc-b1b1-ac32b79b1014",
   "metadata": {},
   "outputs": [],
   "source": []
  }
 ],
 "metadata": {
  "kernelspec": {
   "display_name": "Python 3 (ipykernel)",
   "language": "python",
   "name": "python3"
  },
  "language_info": {
   "codemirror_mode": {
    "name": "ipython",
    "version": 3
   },
   "file_extension": ".py",
   "mimetype": "text/x-python",
   "name": "python",
   "nbconvert_exporter": "python",
   "pygments_lexer": "ipython3",
   "version": "3.12.0"
  }
 },
 "nbformat": 4,
 "nbformat_minor": 5
}
